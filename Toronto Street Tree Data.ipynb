{
 "cells": [
  {
   "cell_type": "markdown",
   "id": "c8b68102",
   "metadata": {},
   "source": [
    "# Toronto Street Tree Data"
   ]
  },
  {
   "cell_type": "markdown",
   "id": "8effb882",
   "metadata": {},
   "source": [
    "### Source: City of Toronto Open Data Portal (<a href=\"https://open.toronto.ca/\" target=\"_blank\">open.toronto.ca</a>)"
   ]
  },
  {
   "cell_type": "code",
   "execution_count": 3,
   "id": "990e6d64",
   "metadata": {},
   "outputs": [],
   "source": [
    "import pandas as pd"
   ]
  },
  {
   "cell_type": "markdown",
   "id": "32aefe10",
   "metadata": {},
   "source": [
    "### GitHub cannot upload the CSV, you can find the street tree data here: <a href=\"https://open.toronto.ca/dataset/street-tree-data/\" target=\"_blank\">Tree Data</a>\n",
    "### Download the CSV and rename accordingly"
   ]
  },
  {
   "cell_type": "code",
   "execution_count": 20,
   "id": "2a489000",
   "metadata": {},
   "outputs": [],
   "source": [
    "tree_data = pd.read_csv(\"street-tree-data_2022-01-02.csv\")"
   ]
  },
  {
   "cell_type": "code",
   "execution_count": 21,
   "id": "3a845a3d",
   "metadata": {},
   "outputs": [
    {
     "data": {
      "text/plain": [
       "9932280"
      ]
     },
     "execution_count": 21,
     "metadata": {},
     "output_type": "execute_result"
    }
   ],
   "source": [
    "tree_data.size"
   ]
  },
  {
   "cell_type": "code",
   "execution_count": 22,
   "id": "fbca4041",
   "metadata": {},
   "outputs": [
    {
     "data": {
      "text/html": [
       "<div>\n",
       "<style scoped>\n",
       "    .dataframe tbody tr th:only-of-type {\n",
       "        vertical-align: middle;\n",
       "    }\n",
       "\n",
       "    .dataframe tbody tr th {\n",
       "        vertical-align: top;\n",
       "    }\n",
       "\n",
       "    .dataframe thead th {\n",
       "        text-align: right;\n",
       "    }\n",
       "</style>\n",
       "<table border=\"1\" class=\"dataframe\">\n",
       "  <thead>\n",
       "    <tr style=\"text-align: right;\">\n",
       "      <th></th>\n",
       "      <th>_id</th>\n",
       "      <th>OBJECTID</th>\n",
       "      <th>ADDRESS</th>\n",
       "      <th>UNIT_NUMBER</th>\n",
       "      <th>TREE_POSITION_NUMBER</th>\n",
       "      <th>WARD</th>\n",
       "      <th>DBH_TRUNK</th>\n",
       "    </tr>\n",
       "  </thead>\n",
       "  <tbody>\n",
       "    <tr>\n",
       "      <th>count</th>\n",
       "      <td>662152.000000</td>\n",
       "      <td>662152.000000</td>\n",
       "      <td>662152.000000</td>\n",
       "      <td>662151.0</td>\n",
       "      <td>662148.000000</td>\n",
       "      <td>662150.000000</td>\n",
       "      <td>661936.000000</td>\n",
       "    </tr>\n",
       "    <tr>\n",
       "      <th>mean</th>\n",
       "      <td>331076.500000</td>\n",
       "      <td>331076.500000</td>\n",
       "      <td>307.175543</td>\n",
       "      <td>0.0</td>\n",
       "      <td>684.809034</td>\n",
       "      <td>11.750800</td>\n",
       "      <td>25.165995</td>\n",
       "    </tr>\n",
       "    <tr>\n",
       "      <th>std</th>\n",
       "      <td>191146.962059</td>\n",
       "      <td>191146.962059</td>\n",
       "      <td>775.498505</td>\n",
       "      <td>0.0</td>\n",
       "      <td>7597.349656</td>\n",
       "      <td>7.524252</td>\n",
       "      <td>25.248821</td>\n",
       "    </tr>\n",
       "    <tr>\n",
       "      <th>min</th>\n",
       "      <td>1.000000</td>\n",
       "      <td>1.000000</td>\n",
       "      <td>1.000000</td>\n",
       "      <td>0.0</td>\n",
       "      <td>-10.000000</td>\n",
       "      <td>1.000000</td>\n",
       "      <td>0.000000</td>\n",
       "    </tr>\n",
       "    <tr>\n",
       "      <th>25%</th>\n",
       "      <td>165538.750000</td>\n",
       "      <td>165538.750000</td>\n",
       "      <td>25.000000</td>\n",
       "      <td>0.0</td>\n",
       "      <td>10.000000</td>\n",
       "      <td>5.000000</td>\n",
       "      <td>8.000000</td>\n",
       "    </tr>\n",
       "    <tr>\n",
       "      <th>50%</th>\n",
       "      <td>331076.500000</td>\n",
       "      <td>331076.500000</td>\n",
       "      <td>65.000000</td>\n",
       "      <td>0.0</td>\n",
       "      <td>20.000000</td>\n",
       "      <td>11.000000</td>\n",
       "      <td>19.000000</td>\n",
       "    </tr>\n",
       "    <tr>\n",
       "      <th>75%</th>\n",
       "      <td>496614.250000</td>\n",
       "      <td>496614.250000</td>\n",
       "      <td>196.000000</td>\n",
       "      <td>0.0</td>\n",
       "      <td>40.000000</td>\n",
       "      <td>18.000000</td>\n",
       "      <td>37.000000</td>\n",
       "    </tr>\n",
       "    <tr>\n",
       "      <th>max</th>\n",
       "      <td>662152.000000</td>\n",
       "      <td>662152.000000</td>\n",
       "      <td>11753.000000</td>\n",
       "      <td>0.0</td>\n",
       "      <td>99999.000000</td>\n",
       "      <td>25.000000</td>\n",
       "      <td>9380.000000</td>\n",
       "    </tr>\n",
       "  </tbody>\n",
       "</table>\n",
       "</div>"
      ],
      "text/plain": [
       "                 _id       OBJECTID        ADDRESS  UNIT_NUMBER  \\\n",
       "count  662152.000000  662152.000000  662152.000000     662151.0   \n",
       "mean   331076.500000  331076.500000     307.175543          0.0   \n",
       "std    191146.962059  191146.962059     775.498505          0.0   \n",
       "min         1.000000       1.000000       1.000000          0.0   \n",
       "25%    165538.750000  165538.750000      25.000000          0.0   \n",
       "50%    331076.500000  331076.500000      65.000000          0.0   \n",
       "75%    496614.250000  496614.250000     196.000000          0.0   \n",
       "max    662152.000000  662152.000000   11753.000000          0.0   \n",
       "\n",
       "       TREE_POSITION_NUMBER           WARD      DBH_TRUNK  \n",
       "count         662148.000000  662150.000000  661936.000000  \n",
       "mean             684.809034      11.750800      25.165995  \n",
       "std             7597.349656       7.524252      25.248821  \n",
       "min              -10.000000       1.000000       0.000000  \n",
       "25%               10.000000       5.000000       8.000000  \n",
       "50%               20.000000      11.000000      19.000000  \n",
       "75%               40.000000      18.000000      37.000000  \n",
       "max            99999.000000      25.000000    9380.000000  "
      ]
     },
     "execution_count": 22,
     "metadata": {},
     "output_type": "execute_result"
    }
   ],
   "source": [
    "tree_data.describe()"
   ]
  },
  {
   "cell_type": "code",
   "execution_count": 23,
   "id": "74aec8cc",
   "metadata": {},
   "outputs": [
    {
     "name": "stdout",
     "output_type": "stream",
     "text": [
      "<class 'pandas.core.frame.DataFrame'>\n",
      "RangeIndex: 662152 entries, 0 to 662151\n",
      "Data columns (total 15 columns):\n",
      " #   Column                Non-Null Count   Dtype  \n",
      "---  ------                --------------   -----  \n",
      " 0   _id                   662152 non-null  int64  \n",
      " 1   OBJECTID              662152 non-null  int64  \n",
      " 2   STRUCTID              662152 non-null  object \n",
      " 3   ADDRESS               662152 non-null  int64  \n",
      " 4   STREETNAME            662147 non-null  object \n",
      " 5   CROSSSTREET1          646346 non-null  object \n",
      " 6   CROSSSTREET2          614619 non-null  object \n",
      " 7   SUFFIX                5016 non-null    object \n",
      " 8   UNIT_NUMBER           662151 non-null  float64\n",
      " 9   TREE_POSITION_NUMBER  662148 non-null  float64\n",
      " 10  SITE                  37138 non-null   object \n",
      " 11  WARD                  662150 non-null  float64\n",
      " 12  COMMON_NAME           662128 non-null  object \n",
      " 13  DBH_TRUNK             661936 non-null  float64\n",
      " 14  geometry              662152 non-null  object \n",
      "dtypes: float64(4), int64(3), object(8)\n",
      "memory usage: 75.8+ MB\n"
     ]
    }
   ],
   "source": [
    "tree_data.info()"
   ]
  },
  {
   "cell_type": "code",
   "execution_count": 24,
   "id": "ce0bf650",
   "metadata": {},
   "outputs": [
    {
     "data": {
      "text/plain": [
       "0                            Ash, green\n",
       "1                          Birch, white\n",
       "2                       Maple, Manitoba\n",
       "3          Elm, American 'Valley Forge'\n",
       "4                 Spruce, Colorado blue\n",
       "                      ...              \n",
       "662147               Linden, Littleleaf\n",
       "662148                     Oak, English\n",
       "662149    Maple, Freeman 'Autumn Blaze'\n",
       "662150                    Maple, Norway\n",
       "662151                    Maple, silver\n",
       "Name: COMMON_NAME, Length: 662152, dtype: object"
      ]
     },
     "execution_count": 24,
     "metadata": {},
     "output_type": "execute_result"
    }
   ],
   "source": [
    "# Get the tree names\n",
    "tree_data[\"COMMON_NAME\"]"
   ]
  },
  {
   "cell_type": "code",
   "execution_count": 25,
   "id": "b82181b1",
   "metadata": {},
   "outputs": [
    {
     "data": {
      "text/plain": [
       "0    Maple, Norway\n",
       "dtype: object"
      ]
     },
     "execution_count": 25,
     "metadata": {},
     "output_type": "execute_result"
    }
   ],
   "source": [
    "# Find the most common tree\n",
    "tree_data[\"COMMON_NAME\"].mode()"
   ]
  },
  {
   "cell_type": "code",
   "execution_count": 26,
   "id": "de154533",
   "metadata": {},
   "outputs": [],
   "source": [
    "# Find the unique tree names\n",
    "tree_names = pd.unique(tree_data[\"COMMON_NAME\"])"
   ]
  },
  {
   "cell_type": "code",
   "execution_count": 27,
   "id": "c87a08a2",
   "metadata": {},
   "outputs": [
    {
     "data": {
      "text/plain": [
       "283"
      ]
     },
     "execution_count": 27,
     "metadata": {},
     "output_type": "execute_result"
    }
   ],
   "source": [
    "len(tree_names)"
   ]
  },
  {
   "cell_type": "code",
   "execution_count": 28,
   "id": "36d5e13f",
   "metadata": {},
   "outputs": [
    {
     "data": {
      "text/plain": [
       "Maple, Norway              74181\n",
       "Honey locust               27787\n",
       "Spruce, Colorado blue      24581\n",
       "Linden, Littleleaf         21983\n",
       "Maple, silver              19998\n",
       "                           ...  \n",
       "Catalpa, Southern              1\n",
       "Bald cypress                   1\n",
       "Birch, European young's        1\n",
       "Hickory, pignut                1\n",
       "Birch, black                   1\n",
       "Name: COMMON_NAME, Length: 282, dtype: int64"
      ]
     },
     "execution_count": 28,
     "metadata": {},
     "output_type": "execute_result"
    }
   ],
   "source": [
    "tree_counts = tree_data[\"COMMON_NAME\"].value_counts()\n",
    "tree_counts"
   ]
  },
  {
   "cell_type": "markdown",
   "id": "d1c22933",
   "metadata": {},
   "source": [
    "### There are significantly more Norway Maples than any other street tree in the city"
   ]
  },
  {
   "cell_type": "code",
   "execution_count": 32,
   "id": "c2c81d91",
   "metadata": {},
   "outputs": [
    {
     "data": {
      "text/plain": [
       "<AxesSubplot:>"
      ]
     },
     "execution_count": 32,
     "metadata": {},
     "output_type": "execute_result"
    },
    {
     "data": {
      "image/png": "[encoded data removed]",
      "text/plain": [
       "<Figure size 432x288 with 1 Axes>"
      ]
     },
     "metadata": {
      "needs_background": "light"
     },
     "output_type": "display_data"
    }
   ],
   "source": [
    "tree_counts.head().plot.bar()"
   ]
  },
  {
   "cell_type": "code",
   "execution_count": 33,
   "id": "c215c5d3",
   "metadata": {},
   "outputs": [
    {
     "data": {
      "text/plain": [
       "389.5"
      ]
     },
     "execution_count": 33,
     "metadata": {},
     "output_type": "execute_result"
    }
   ],
   "source": [
    "tree_counts.median()"
   ]
  },
  {
   "cell_type": "code",
   "execution_count": 34,
   "id": "6a6f6570",
   "metadata": {},
   "outputs": [
    {
     "data": {
      "text/plain": [
       "<AxesSubplot:>"
      ]
     },
     "execution_count": 34,
     "metadata": {},
     "output_type": "execute_result"
    },
    {
     "data": {
      "image/png": "[encoded data removed]",
      "text/plain": [
       "<Figure size 432x288 with 1 Axes>"
      ]
     },
     "metadata": {
      "needs_background": "light"
     },
     "output_type": "display_data"
    }
   ],
   "source": [
    "tree_counts.plot()"
   ]
  },
  {
   "cell_type": "code",
   "execution_count": 38,
   "id": "b89cda2d",
   "metadata": {},
   "outputs": [
    {
     "data": {
      "text/plain": [
       "(74181, 27787)"
      ]
     },
     "execution_count": 38,
     "metadata": {},
     "output_type": "execute_result"
    }
   ],
   "source": [
    "tree_data[\"COMMON_NAME\"].value_counts()[\"Maple, Norway\"], tree_data[\"COMMON_NAME\"].value_counts()[\"Honey locust\"]"
   ]
  },
  {
   "cell_type": "code",
   "execution_count": null,
   "id": "1369900d",
   "metadata": {},
   "outputs": [],
   "source": []
  }
 ],
 "metadata": {
  "kernelspec": {
   "display_name": "Python 3 (ipykernel)",
   "language": "python",
   "name": "python3"
  },
  "language_info": {
   "codemirror_mode": {
    "name": "ipython",
    "version": 3
   },
   "file_extension": ".py",
   "mimetype": "text/x-python",
   "name": "python",
   "nbconvert_exporter": "python",
   "pygments_lexer": "ipython3",
   "version": "3.9.7"
  }
 },
 "nbformat": 4,
 "nbformat_minor": 5
}
